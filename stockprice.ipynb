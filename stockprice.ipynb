{
  "cells": [
    {
      "cell_type": "code",
      "execution_count": 6,
      "metadata": {
        "colab": {
          "base_uri": "https://localhost:8080/"
        },
        "id": "1lObgkGLD8vs",
        "outputId": "62e5c6c4-8a77-4620-ca30-6914dd770670"
      },
      "outputs": [
        {
          "name": "stdout",
          "output_type": "stream",
          "text": [
            "Requirement already satisfied: yfinance in c:\\vscode\\project_mark_alpha\\stock_price_prediction\\env\\lib\\site-packages (0.1.72)\n",
            "Requirement already satisfied: lxml>=4.5.1 in c:\\vscode\\project_mark_alpha\\stock_price_prediction\\env\\lib\\site-packages (from yfinance) (4.9.0)\n",
            "Requirement already satisfied: requests>=2.26 in c:\\vscode\\project_mark_alpha\\stock_price_prediction\\env\\lib\\site-packages (from yfinance) (2.28.0)\n",
            "Requirement already satisfied: pandas>=0.24.0 in c:\\vscode\\project_mark_alpha\\stock_price_prediction\\env\\lib\\site-packages (from yfinance) (1.4.3)\n",
            "Requirement already satisfied: multitasking>=0.0.7 in c:\\vscode\\project_mark_alpha\\stock_price_prediction\\env\\lib\\site-packages (from yfinance) (0.0.10)\n",
            "Requirement already satisfied: numpy>=1.15 in c:\\vscode\\project_mark_alpha\\stock_price_prediction\\env\\lib\\site-packages (from yfinance) (1.23.0)\n",
            "Requirement already satisfied: python-dateutil>=2.8.1 in c:\\vscode\\project_mark_alpha\\stock_price_prediction\\env\\lib\\site-packages (from pandas>=0.24.0->yfinance) (2.8.2)\n",
            "Requirement already satisfied: pytz>=2020.1 in c:\\vscode\\project_mark_alpha\\stock_price_prediction\\env\\lib\\site-packages (from pandas>=0.24.0->yfinance) (2022.1)\n",
            "Requirement already satisfied: charset-normalizer~=2.0.0 in c:\\vscode\\project_mark_alpha\\stock_price_prediction\\env\\lib\\site-packages (from requests>=2.26->yfinance) (2.0.12)\n",
            "Requirement already satisfied: idna<4,>=2.5 in c:\\vscode\\project_mark_alpha\\stock_price_prediction\\env\\lib\\site-packages (from requests>=2.26->yfinance) (3.3)\n",
            "Requirement already satisfied: urllib3<1.27,>=1.21.1 in c:\\vscode\\project_mark_alpha\\stock_price_prediction\\env\\lib\\site-packages (from requests>=2.26->yfinance) (1.26.9)\n",
            "Requirement already satisfied: certifi>=2017.4.17 in c:\\vscode\\project_mark_alpha\\stock_price_prediction\\env\\lib\\site-packages (from requests>=2.26->yfinance) (2022.6.15)\n",
            "Requirement already satisfied: six>=1.5 in c:\\vscode\\project_mark_alpha\\stock_price_prediction\\env\\lib\\site-packages (from python-dateutil>=2.8.1->pandas>=0.24.0->yfinance) (1.16.0)\n",
            "Note: you may need to restart the kernel to use updated packages.\n"
          ]
        }
      ],
      "source": [
        "%pip install yfinance"
      ]
    },
    {
      "cell_type": "code",
      "execution_count": 7,
      "metadata": {
        "id": "N0gQDPxF_jcG"
      },
      "outputs": [],
      "source": [
        "import pandas as pd\n",
        "import numpy as np\n",
        "import matplotlib.pyplot as plt\n",
        "import seaborn as sns\n",
        "import yfinance as yf"
      ]
    },
    {
      "cell_type": "code",
      "execution_count": 8,
      "metadata": {
        "colab": {
          "base_uri": "https://localhost:8080/",
          "height": 250
        },
        "id": "gmnYsTqSC3qH",
        "outputId": "23be07f6-47ec-468b-f262-5f93901f8d3f"
      },
      "outputs": [
        {
          "name": "stdout",
          "output_type": "stream",
          "text": [
            "[*********************100%***********************]  1 of 1 completed\n"
          ]
        },
        {
          "data": {
            "text/html": [
              "<div>\n",
              "<style scoped>\n",
              "    .dataframe tbody tr th:only-of-type {\n",
              "        vertical-align: middle;\n",
              "    }\n",
              "\n",
              "    .dataframe tbody tr th {\n",
              "        vertical-align: top;\n",
              "    }\n",
              "\n",
              "    .dataframe thead th {\n",
              "        text-align: right;\n",
              "    }\n",
              "</style>\n",
              "<table border=\"1\" class=\"dataframe\">\n",
              "  <thead>\n",
              "    <tr style=\"text-align: right;\">\n",
              "      <th></th>\n",
              "      <th>Open</th>\n",
              "      <th>High</th>\n",
              "      <th>Low</th>\n",
              "      <th>Close</th>\n",
              "      <th>Volume</th>\n",
              "    </tr>\n",
              "    <tr>\n",
              "      <th>Date</th>\n",
              "      <th></th>\n",
              "      <th></th>\n",
              "      <th></th>\n",
              "      <th></th>\n",
              "      <th></th>\n",
              "    </tr>\n",
              "  </thead>\n",
              "  <tbody>\n",
              "    <tr>\n",
              "      <th>2022-06-17</th>\n",
              "      <td>130.070007</td>\n",
              "      <td>133.080002</td>\n",
              "      <td>129.809998</td>\n",
              "      <td>131.559998</td>\n",
              "      <td>134118500</td>\n",
              "    </tr>\n",
              "    <tr>\n",
              "      <th>2022-06-21</th>\n",
              "      <td>133.419998</td>\n",
              "      <td>137.059998</td>\n",
              "      <td>133.320007</td>\n",
              "      <td>135.869995</td>\n",
              "      <td>81000500</td>\n",
              "    </tr>\n",
              "    <tr>\n",
              "      <th>2022-06-22</th>\n",
              "      <td>134.789993</td>\n",
              "      <td>137.759995</td>\n",
              "      <td>133.910004</td>\n",
              "      <td>135.350006</td>\n",
              "      <td>73409200</td>\n",
              "    </tr>\n",
              "    <tr>\n",
              "      <th>2022-06-23</th>\n",
              "      <td>136.820007</td>\n",
              "      <td>138.589996</td>\n",
              "      <td>135.630005</td>\n",
              "      <td>138.270004</td>\n",
              "      <td>72433800</td>\n",
              "    </tr>\n",
              "    <tr>\n",
              "      <th>2022-06-24</th>\n",
              "      <td>139.899994</td>\n",
              "      <td>141.910004</td>\n",
              "      <td>139.770004</td>\n",
              "      <td>141.660004</td>\n",
              "      <td>89047400</td>\n",
              "    </tr>\n",
              "  </tbody>\n",
              "</table>\n",
              "</div>"
            ],
            "text/plain": [
              "                  Open        High         Low       Close     Volume\n",
              "Date                                                                 \n",
              "2022-06-17  130.070007  133.080002  129.809998  131.559998  134118500\n",
              "2022-06-21  133.419998  137.059998  133.320007  135.869995   81000500\n",
              "2022-06-22  134.789993  137.759995  133.910004  135.350006   73409200\n",
              "2022-06-23  136.820007  138.589996  135.630005  138.270004   72433800\n",
              "2022-06-24  139.899994  141.910004  139.770004  141.660004   89047400"
            ]
          },
          "execution_count": 8,
          "metadata": {},
          "output_type": "execute_result"
        }
      ],
      "source": [
        "stocks = input(\"Enter the code of Stock :- \")\n",
        "data = yf.download(stocks,\"2008-01-01\",\"2022-06-27\",auto_adjust=True)\n",
        "# data.head()\n",
        "data.tail()"
      ]
    },
    {
      "cell_type": "code",
      "execution_count": 9,
      "metadata": {
        "colab": {
          "base_uri": "https://localhost:8080/"
        },
        "id": "58deYb62FdRV",
        "outputId": "882b83d6-653a-4264-f80e-f77837eca496"
      },
      "outputs": [
        {
          "data": {
            "text/plain": [
              "(3647, 5)"
            ]
          },
          "execution_count": 9,
          "metadata": {},
          "output_type": "execute_result"
        }
      ],
      "source": [
        "data.shape"
      ]
    },
    {
      "cell_type": "code",
      "execution_count": 10,
      "metadata": {
        "colab": {
          "base_uri": "https://localhost:8080/"
        },
        "id": "iZ_W4PO_GDey",
        "outputId": "0451e1a7-3af3-46eb-c88c-2e501afc54b6"
      },
      "outputs": [
        {
          "name": "stdout",
          "output_type": "stream",
          "text": [
            "<class 'pandas.core.frame.DataFrame'>\n",
            "DatetimeIndex: 3647 entries, 2007-12-31 to 2022-06-24\n",
            "Data columns (total 5 columns):\n",
            " #   Column  Non-Null Count  Dtype  \n",
            "---  ------  --------------  -----  \n",
            " 0   Open    3647 non-null   float64\n",
            " 1   High    3647 non-null   float64\n",
            " 2   Low     3647 non-null   float64\n",
            " 3   Close   3647 non-null   float64\n",
            " 4   Volume  3647 non-null   int64  \n",
            "dtypes: float64(4), int64(1)\n",
            "memory usage: 171.0 KB\n"
          ]
        }
      ],
      "source": [
        "data.info()"
      ]
    },
    {
      "cell_type": "code",
      "execution_count": 11,
      "metadata": {
        "colab": {
          "base_uri": "https://localhost:8080/",
          "height": 300
        },
        "id": "QQ44TXiDGO50",
        "outputId": "00a6f38d-ca66-4337-e441-ff943bdabffb"
      },
      "outputs": [
        {
          "data": {
            "text/html": [
              "<div>\n",
              "<style scoped>\n",
              "    .dataframe tbody tr th:only-of-type {\n",
              "        vertical-align: middle;\n",
              "    }\n",
              "\n",
              "    .dataframe tbody tr th {\n",
              "        vertical-align: top;\n",
              "    }\n",
              "\n",
              "    .dataframe thead th {\n",
              "        text-align: right;\n",
              "    }\n",
              "</style>\n",
              "<table border=\"1\" class=\"dataframe\">\n",
              "  <thead>\n",
              "    <tr style=\"text-align: right;\">\n",
              "      <th></th>\n",
              "      <th>Open</th>\n",
              "      <th>High</th>\n",
              "      <th>Low</th>\n",
              "      <th>Close</th>\n",
              "      <th>Volume</th>\n",
              "    </tr>\n",
              "  </thead>\n",
              "  <tbody>\n",
              "    <tr>\n",
              "      <th>count</th>\n",
              "      <td>3647.000000</td>\n",
              "      <td>3647.000000</td>\n",
              "      <td>3647.000000</td>\n",
              "      <td>3647.000000</td>\n",
              "      <td>3.647000e+03</td>\n",
              "    </tr>\n",
              "    <tr>\n",
              "      <th>mean</th>\n",
              "      <td>39.728752</td>\n",
              "      <td>40.165990</td>\n",
              "      <td>39.296568</td>\n",
              "      <td>39.747050</td>\n",
              "      <td>3.448528e+08</td>\n",
              "    </tr>\n",
              "    <tr>\n",
              "      <th>std</th>\n",
              "      <td>43.396615</td>\n",
              "      <td>43.931506</td>\n",
              "      <td>42.875022</td>\n",
              "      <td>43.422588</td>\n",
              "      <td>3.356905e+08</td>\n",
              "    </tr>\n",
              "    <tr>\n",
              "      <th>min</th>\n",
              "      <td>2.424281</td>\n",
              "      <td>2.503981</td>\n",
              "      <td>2.387943</td>\n",
              "      <td>2.387943</td>\n",
              "      <td>4.100000e+07</td>\n",
              "    </tr>\n",
              "    <tr>\n",
              "      <th>25%</th>\n",
              "      <td>11.402275</td>\n",
              "      <td>11.570072</td>\n",
              "      <td>11.306543</td>\n",
              "      <td>11.444109</td>\n",
              "      <td>1.135022e+08</td>\n",
              "    </tr>\n",
              "    <tr>\n",
              "      <th>50%</th>\n",
              "      <td>23.406871</td>\n",
              "      <td>23.660843</td>\n",
              "      <td>23.290631</td>\n",
              "      <td>23.560329</td>\n",
              "      <td>2.147980e+08</td>\n",
              "    </tr>\n",
              "    <tr>\n",
              "      <th>75%</th>\n",
              "      <td>45.544269</td>\n",
              "      <td>45.988900</td>\n",
              "      <td>45.155446</td>\n",
              "      <td>45.587580</td>\n",
              "      <td>4.540214e+08</td>\n",
              "    </tr>\n",
              "    <tr>\n",
              "      <th>max</th>\n",
              "      <td>182.130025</td>\n",
              "      <td>182.439174</td>\n",
              "      <td>178.629624</td>\n",
              "      <td>181.511703</td>\n",
              "      <td>3.372970e+09</td>\n",
              "    </tr>\n",
              "  </tbody>\n",
              "</table>\n",
              "</div>"
            ],
            "text/plain": [
              "              Open         High          Low        Close        Volume\n",
              "count  3647.000000  3647.000000  3647.000000  3647.000000  3.647000e+03\n",
              "mean     39.728752    40.165990    39.296568    39.747050  3.448528e+08\n",
              "std      43.396615    43.931506    42.875022    43.422588  3.356905e+08\n",
              "min       2.424281     2.503981     2.387943     2.387943  4.100000e+07\n",
              "25%      11.402275    11.570072    11.306543    11.444109  1.135022e+08\n",
              "50%      23.406871    23.660843    23.290631    23.560329  2.147980e+08\n",
              "75%      45.544269    45.988900    45.155446    45.587580  4.540214e+08\n",
              "max     182.130025   182.439174   178.629624   181.511703  3.372970e+09"
            ]
          },
          "execution_count": 11,
          "metadata": {},
          "output_type": "execute_result"
        }
      ],
      "source": [
        "data.describe()"
      ]
    },
    {
      "cell_type": "code",
      "execution_count": 12,
      "metadata": {
        "colab": {
          "base_uri": "https://localhost:8080/",
          "height": 481
        },
        "id": "UiBVPx77GO8U",
        "outputId": "02895c19-c209-4ca3-f088-e3d3dc328dfd"
      },
      "outputs": [
        {
          "data": {
            "image/png": "[encoded data removed]",
            "text/plain": [
              "<Figure size 1080x576 with 1 Axes>"
            ]
          },
          "metadata": {
            "needs_background": "light"
          },
          "output_type": "display_data"
        }
      ],
      "source": [
        "data.Close.plot(figsize=(15,8),color='g')\n",
        "plt.ylabel(\"{}Prices\".format(stocks))\n",
        "plt.title(\"{}Price Series\".format(stocks))\n",
        "plt.show()"
      ]
    },
    {
      "cell_type": "code",
      "execution_count": 13,
      "metadata": {
        "colab": {
          "base_uri": "https://localhost:8080/",
          "height": 351
        },
        "id": "ifnmiwOLGPIh",
        "outputId": "1060462a-db0b-4827-dbba-47220841463f"
      },
      "outputs": [
        {
          "name": "stderr",
          "output_type": "stream",
          "text": [
            "c:\\VScode\\project_mark_alpha\\stock_price_prediction\\env\\lib\\site-packages\\seaborn\\distributions.py:2619: FutureWarning: `distplot` is a deprecated function and will be removed in a future version. Please adapt your code to use either `displot` (a figure-level function with similar flexibility) or `histplot` (an axes-level function for histograms).\n",
            "  warnings.warn(msg, FutureWarning)\n"
          ]
        },
        {
          "data": {
            "text/plain": [
              "<AxesSubplot:xlabel='Close', ylabel='Density'>"
            ]
          },
          "execution_count": 13,
          "metadata": {},
          "output_type": "execute_result"
        },
        {
          "data": {
            "image/png": "[encoded data removed]",
            "text/plain": [
              "<Figure size 432x288 with 1 Axes>"
            ]
          },
          "metadata": {
            "needs_background": "light"
          },
          "output_type": "display_data"
        }
      ],
      "source": [
        "sns.distplot(data[\"Close\"])"
      ]
    },
    {
      "cell_type": "code",
      "execution_count": 14,
      "metadata": {
        "colab": {
          "base_uri": "https://localhost:8080/",
          "height": 351
        },
        "id": "ugQ9o6t2FdTw",
        "outputId": "b502b3a3-403f-4b4c-a3b3-49cd492c0b38"
      },
      "outputs": [
        {
          "name": "stderr",
          "output_type": "stream",
          "text": [
            "c:\\VScode\\project_mark_alpha\\stock_price_prediction\\env\\lib\\site-packages\\seaborn\\distributions.py:2619: FutureWarning: `distplot` is a deprecated function and will be removed in a future version. Please adapt your code to use either `displot` (a figure-level function with similar flexibility) or `histplot` (an axes-level function for histograms).\n",
            "  warnings.warn(msg, FutureWarning)\n"
          ]
        },
        {
          "data": {
            "text/plain": [
              "<AxesSubplot:xlabel='Open', ylabel='Density'>"
            ]
          },
          "execution_count": 14,
          "metadata": {},
          "output_type": "execute_result"
        },
        {
          "data": {
            "image/png": "[encoded data removed]",
            "text/plain": [
              "<Figure size 432x288 with 1 Axes>"
            ]
          },
          "metadata": {
            "needs_background": "light"
          },
          "output_type": "display_data"
        }
      ],
      "source": [
        "sns.distplot(data[\"Open\"])"
      ]
    },
    {
      "cell_type": "code",
      "execution_count": 15,
      "metadata": {
        "colab": {
          "base_uri": "https://localhost:8080/",
          "height": 351
        },
        "id": "PrIlL5RUKTWa",
        "outputId": "7737ec76-5b51-49ad-970d-097bdb607524"
      },
      "outputs": [
        {
          "name": "stderr",
          "output_type": "stream",
          "text": [
            "c:\\VScode\\project_mark_alpha\\stock_price_prediction\\env\\lib\\site-packages\\seaborn\\distributions.py:2619: FutureWarning: `distplot` is a deprecated function and will be removed in a future version. Please adapt your code to use either `displot` (a figure-level function with similar flexibility) or `histplot` (an axes-level function for histograms).\n",
            "  warnings.warn(msg, FutureWarning)\n"
          ]
        },
        {
          "data": {
            "text/plain": [
              "<AxesSubplot:xlabel='High', ylabel='Density'>"
            ]
          },
          "execution_count": 15,
          "metadata": {},
          "output_type": "execute_result"
        },
        {
          "data": {
            "image/png": "[encoded data removed]",
            "text/plain": [
              "<Figure size 432x288 with 1 Axes>"
            ]
          },
          "metadata": {
            "needs_background": "light"
          },
          "output_type": "display_data"
        }
      ],
      "source": [
        "sns.distplot(data[\"High\"])"
      ]
    },
    {
      "cell_type": "code",
      "execution_count": 17,
      "metadata": {
        "colab": {
          "base_uri": "https://localhost:8080/"
        },
        "id": "6dYg-lZ4KotI",
        "outputId": "37fac05b-d08c-4b56-b4b5-1fb7872b8c28"
      },
      "outputs": [
        {
          "name": "stdout",
          "output_type": "stream",
          "text": [
            "(2917, 4)\n",
            "(730, 4)\n",
            "(2917,)\n",
            "(730,)\n"
          ]
        }
      ],
      "source": [
        "X = data.drop(\"Close\",axis=1)\n",
        "y = data[\"Close\"] \n",
        "from sklearn.model_selection import train_test_split\n",
        "X_train, X_test, y_train, y_test = train_test_split(X,y,test_size=0.2, random_state=0)\n",
        "\n",
        "print(X_train.shape)\n",
        "print(X_test.shape)\n",
        "print(y_train.shape)\n",
        "print(y_test.shape)"
      ]
    },
    {
      "cell_type": "code",
      "execution_count": 18,
      "metadata": {
        "id": "YjLFRU3OKovv"
      },
      "outputs": [],
      "source": [
        " from sklearn.linear_model import LinearRegression\n",
        " lr = LinearRegression()\n",
        " lr.fit(X_train,y_train)\n",
        " pred1 = lr.predict(X_test)"
      ]
    },
    {
      "cell_type": "code",
      "execution_count": 19,
      "metadata": {
        "colab": {
          "base_uri": "https://localhost:8080/"
        },
        "id": "5fE1P4AzTy_H",
        "outputId": "c119b76d-79fc-431d-db7c-6138cfa4aaec"
      },
      "outputs": [
        {
          "data": {
            "text/plain": [
              "(730,)"
            ]
          },
          "execution_count": 19,
          "metadata": {},
          "output_type": "execute_result"
        }
      ],
      "source": [
        " pred1.shape"
      ]
    },
    {
      "cell_type": "code",
      "execution_count": 20,
      "metadata": {
        "colab": {
          "base_uri": "https://localhost:8080/"
        },
        "id": "Dg4lpIMlUTlR",
        "outputId": "fc9f1fd4-0c46-49a3-ec9e-fa96573c3349"
      },
      "outputs": [
        {
          "name": "stdout",
          "output_type": "stream",
          "text": [
            "MSE :-  0.19839889142216283\n",
            "RMSE :-  0.44541990460930553\n",
            "R2_score :-  0.9999017466316927\n"
          ]
        }
      ],
      "source": [
        "from sklearn.metrics import mean_squared_error ,r2_score\n",
        "\n",
        "def calculate_metrics(y_test,y_pred):\n",
        "  mse = mean_squared_error(y_test,y_pred)\n",
        "  rmse= np.sqrt(mse)\n",
        "  rse = r2_score(y_test,y_pred)\n",
        "  print(\"MSE :- \",mse)\n",
        "  print(\"RMSE :- \",rmse)\n",
        "  print(\"R2_score :- \",rse)\n",
        "\n",
        "calculate_metrics(y_test,pred1)"
      ]
    },
    {
      "cell_type": "code",
      "execution_count": 21,
      "metadata": {
        "colab": {
          "base_uri": "https://localhost:8080/"
        },
        "id": "Ge-btuQ-MU72",
        "outputId": "d6e7eb92-398d-4b4c-8e34-b9bb1a9ba1f2"
      },
      "outputs": [
        {
          "name": "stderr",
          "output_type": "stream",
          "text": [
            "c:\\VScode\\project_mark_alpha\\stock_price_prediction\\env\\lib\\site-packages\\sklearn\\linear_model\\_coordinate_descent.py:648: ConvergenceWarning: Objective did not converge. You might want to increase the number of iterations, check the scale of the features or consider increasing regularisation. Duality gap: 8.809e+02, tolerance: 5.400e+02\n",
            "  model = cd_fast.enet_coordinate_descent(\n",
            "c:\\VScode\\project_mark_alpha\\stock_price_prediction\\env\\lib\\site-packages\\sklearn\\linear_model\\_ridge.py:212: LinAlgWarning: Ill-conditioned matrix (rcond=1.36263e-18): result may not be accurate.\n",
            "  return linalg.solve(A, Xy, sym_pos=True, overwrite_a=True).T\n"
          ]
        }
      ],
      "source": [
        " from sklearn.linear_model import Lasso, Ridge \n",
        "\n",
        " la = Lasso().fit(X_train, y_train )\n",
        " ri = Ridge().fit(X_train, y_train ) \n",
        "\n",
        " la_p = la.predict(X_test) \n",
        " ri_p = ri.predict(X_test)"
      ]
    },
    {
      "cell_type": "code",
      "execution_count": 22,
      "metadata": {
        "colab": {
          "base_uri": "https://localhost:8080/"
        },
        "id": "fmCT4TCvMVLY",
        "outputId": "e21c7f50-6cbe-44a1-838b-199953e24712"
      },
      "outputs": [
        {
          "name": "stdout",
          "output_type": "stream",
          "text": [
            "MSE :-  0.8829123226356437\n",
            "RMSE :-  0.9396341429703604\n",
            "R2_score :-  0.9995627540607857\n"
          ]
        }
      ],
      "source": [
        " calculate_metrics(y_test, la_p)"
      ]
    },
    {
      "cell_type": "code",
      "execution_count": 23,
      "metadata": {
        "colab": {
          "base_uri": "https://localhost:8080/"
        },
        "id": "tf6JpyTsMVRc",
        "outputId": "1d9d260a-88da-45b0-8bad-ecd2ef0abdbf"
      },
      "outputs": [
        {
          "name": "stdout",
          "output_type": "stream",
          "text": [
            "MSE :-  0.19849862734909596\n",
            "RMSE :-  0.4455318477382913\n",
            "R2_score :-  0.9999016972393262\n"
          ]
        }
      ],
      "source": [
        " calculate_metrics(y_test, ri_p)"
      ]
    },
    {
      "cell_type": "code",
      "execution_count": 24,
      "metadata": {
        "colab": {
          "base_uri": "https://localhost:8080/"
        },
        "id": "a1-bCktvMpTd",
        "outputId": "b2c57fc7-69a1-41ed-ff8f-d2faae20dd63"
      },
      "outputs": [
        {
          "name": "stdout",
          "output_type": "stream",
          "text": [
            "Fitting 5 folds for each of 25 candidates, totalling 125 fits\n",
            "[CV 1/5] END .......C=0.1, gamma=1, kernel=rbf;, score=-0.129 total time=   4.7s\n",
            "[CV 2/5] END .......C=0.1, gamma=1, kernel=rbf;, score=-0.111 total time=   0.5s\n",
            "[CV 3/5] END .......C=0.1, gamma=1, kernel=rbf;, score=-0.147 total time=   0.5s\n",
            "[CV 4/5] END .......C=0.1, gamma=1, kernel=rbf;, score=-0.148 total time=   0.5s\n",
            "[CV 5/5] END .......C=0.1, gamma=1, kernel=rbf;, score=-0.137 total time=   0.5s\n",
            "[CV 1/5] END .....C=0.1, gamma=0.1, kernel=rbf;, score=-0.129 total time=   0.5s\n",
            "[CV 2/5] END .....C=0.1, gamma=0.1, kernel=rbf;, score=-0.111 total time=   0.5s\n",
            "[CV 3/5] END .....C=0.1, gamma=0.1, kernel=rbf;, score=-0.147 total time=   0.5s\n",
            "[CV 4/5] END .....C=0.1, gamma=0.1, kernel=rbf;, score=-0.148 total time=   0.5s\n",
            "[CV 5/5] END .....C=0.1, gamma=0.1, kernel=rbf;, score=-0.137 total time=   0.5s\n",
            "[CV 1/5] END ....C=0.1, gamma=0.01, kernel=rbf;, score=-0.129 total time=   0.5s\n",
            "[CV 2/5] END ....C=0.1, gamma=0.01, kernel=rbf;, score=-0.111 total time=   0.5s\n",
            "[CV 3/5] END ....C=0.1, gamma=0.01, kernel=rbf;, score=-0.147 total time=   0.5s\n",
            "[CV 4/5] END ....C=0.1, gamma=0.01, kernel=rbf;, score=-0.148 total time=   0.5s\n",
            "[CV 5/5] END ....C=0.1, gamma=0.01, kernel=rbf;, score=-0.137 total time=   0.5s\n",
            "[CV 1/5] END ...C=0.1, gamma=0.001, kernel=rbf;, score=-0.129 total time=   0.5s\n",
            "[CV 2/5] END ...C=0.1, gamma=0.001, kernel=rbf;, score=-0.111 total time=   0.5s\n",
            "[CV 3/5] END ...C=0.1, gamma=0.001, kernel=rbf;, score=-0.147 total time=   0.5s\n",
            "[CV 4/5] END ...C=0.1, gamma=0.001, kernel=rbf;, score=-0.148 total time=   0.5s\n",
            "[CV 5/5] END ...C=0.1, gamma=0.001, kernel=rbf;, score=-0.137 total time=   0.5s\n",
            "[CV 1/5] END ..C=0.1, gamma=0.0001, kernel=rbf;, score=-0.128 total time=   0.5s\n",
            "[CV 2/5] END ..C=0.1, gamma=0.0001, kernel=rbf;, score=-0.111 total time=   0.5s\n",
            "[CV 3/5] END ..C=0.1, gamma=0.0001, kernel=rbf;, score=-0.147 total time=   0.5s\n",
            "[CV 4/5] END ..C=0.1, gamma=0.0001, kernel=rbf;, score=-0.148 total time=   0.5s\n",
            "[CV 5/5] END ..C=0.1, gamma=0.0001, kernel=rbf;, score=-0.137 total time=   0.5s\n",
            "[CV 1/5] END .........C=1, gamma=1, kernel=rbf;, score=-0.131 total time=   0.5s\n",
            "[CV 2/5] END .........C=1, gamma=1, kernel=rbf;, score=-0.114 total time=   0.5s\n",
            "[CV 3/5] END .........C=1, gamma=1, kernel=rbf;, score=-0.149 total time=   0.5s\n",
            "[CV 4/5] END .........C=1, gamma=1, kernel=rbf;, score=-0.145 total time=   0.5s\n",
            "[CV 5/5] END .........C=1, gamma=1, kernel=rbf;, score=-0.138 total time=   0.5s\n",
            "[CV 1/5] END .......C=1, gamma=0.1, kernel=rbf;, score=-0.131 total time=   0.5s\n",
            "[CV 2/5] END .......C=1, gamma=0.1, kernel=rbf;, score=-0.114 total time=   0.5s\n",
            "[CV 3/5] END .......C=1, gamma=0.1, kernel=rbf;, score=-0.149 total time=   0.5s\n",
            "[CV 4/5] END .......C=1, gamma=0.1, kernel=rbf;, score=-0.145 total time=   0.5s\n",
            "[CV 5/5] END .......C=1, gamma=0.1, kernel=rbf;, score=-0.138 total time=   0.5s\n",
            "[CV 1/5] END ......C=1, gamma=0.01, kernel=rbf;, score=-0.131 total time=   0.5s\n",
            "[CV 2/5] END ......C=1, gamma=0.01, kernel=rbf;, score=-0.114 total time=   0.5s\n",
            "[CV 3/5] END ......C=1, gamma=0.01, kernel=rbf;, score=-0.149 total time=   0.5s\n",
            "[CV 4/5] END ......C=1, gamma=0.01, kernel=rbf;, score=-0.145 total time=   0.5s\n",
            "[CV 5/5] END ......C=1, gamma=0.01, kernel=rbf;, score=-0.138 total time=   0.5s\n",
            "[CV 1/5] END .....C=1, gamma=0.001, kernel=rbf;, score=-0.131 total time=   0.5s\n",
            "[CV 2/5] END .....C=1, gamma=0.001, kernel=rbf;, score=-0.114 total time=   0.5s\n",
            "[CV 3/5] END .....C=1, gamma=0.001, kernel=rbf;, score=-0.149 total time=   0.5s\n",
            "[CV 4/5] END .....C=1, gamma=0.001, kernel=rbf;, score=-0.145 total time=   0.5s\n",
            "[CV 5/5] END .....C=1, gamma=0.001, kernel=rbf;, score=-0.137 total time=   0.5s\n",
            "[CV 1/5] END ....C=1, gamma=0.0001, kernel=rbf;, score=-0.131 total time=   0.5s\n",
            "[CV 2/5] END ....C=1, gamma=0.0001, kernel=rbf;, score=-0.114 total time=   0.5s\n",
            "[CV 3/5] END ....C=1, gamma=0.0001, kernel=rbf;, score=-0.149 total time=   0.5s\n",
            "[CV 4/5] END ....C=1, gamma=0.0001, kernel=rbf;, score=-0.145 total time=   0.5s\n",
            "[CV 5/5] END ....C=1, gamma=0.0001, kernel=rbf;, score=-0.137 total time=   0.5s\n",
            "[CV 1/5] END ........C=10, gamma=1, kernel=rbf;, score=-0.127 total time=   0.5s\n",
            "[CV 2/5] END ........C=10, gamma=1, kernel=rbf;, score=-0.112 total time=   0.5s\n",
            "[CV 3/5] END ........C=10, gamma=1, kernel=rbf;, score=-0.148 total time=   0.5s\n",
            "[CV 4/5] END ........C=10, gamma=1, kernel=rbf;, score=-0.140 total time=   0.5s\n",
            "[CV 5/5] END ........C=10, gamma=1, kernel=rbf;, score=-0.133 total time=   0.5s\n",
            "[CV 1/5] END ......C=10, gamma=0.1, kernel=rbf;, score=-0.127 total time=   0.5s\n",
            "[CV 2/5] END ......C=10, gamma=0.1, kernel=rbf;, score=-0.112 total time=   0.5s\n",
            "[CV 3/5] END ......C=10, gamma=0.1, kernel=rbf;, score=-0.148 total time=   0.5s\n",
            "[CV 4/5] END ......C=10, gamma=0.1, kernel=rbf;, score=-0.140 total time=   0.5s\n",
            "[CV 5/5] END ......C=10, gamma=0.1, kernel=rbf;, score=-0.133 total time=   0.5s\n",
            "[CV 1/5] END .....C=10, gamma=0.01, kernel=rbf;, score=-0.127 total time=   0.5s\n",
            "[CV 2/5] END .....C=10, gamma=0.01, kernel=rbf;, score=-0.112 total time=   0.5s\n",
            "[CV 3/5] END .....C=10, gamma=0.01, kernel=rbf;, score=-0.148 total time=   0.5s\n",
            "[CV 4/5] END .....C=10, gamma=0.01, kernel=rbf;, score=-0.140 total time=   0.5s\n",
            "[CV 5/5] END .....C=10, gamma=0.01, kernel=rbf;, score=-0.133 total time=   0.5s\n",
            "[CV 1/5] END ....C=10, gamma=0.001, kernel=rbf;, score=-0.126 total time=   0.5s\n",
            "[CV 2/5] END ....C=10, gamma=0.001, kernel=rbf;, score=-0.112 total time=   0.5s\n",
            "[CV 3/5] END ....C=10, gamma=0.001, kernel=rbf;, score=-0.147 total time=   0.5s\n",
            "[CV 4/5] END ....C=10, gamma=0.001, kernel=rbf;, score=-0.140 total time=   0.5s\n",
            "[CV 5/5] END ....C=10, gamma=0.001, kernel=rbf;, score=-0.132 total time=   0.5s\n",
            "[CV 1/5] END ...C=10, gamma=0.0001, kernel=rbf;, score=-0.124 total time=   0.5s\n",
            "[CV 2/5] END ...C=10, gamma=0.0001, kernel=rbf;, score=-0.112 total time=   0.5s\n",
            "[CV 3/5] END ...C=10, gamma=0.0001, kernel=rbf;, score=-0.148 total time=   0.5s\n",
            "[CV 4/5] END ...C=10, gamma=0.0001, kernel=rbf;, score=-0.139 total time=   0.5s\n",
            "[CV 5/5] END ...C=10, gamma=0.0001, kernel=rbf;, score=-0.131 total time=   0.5s\n",
            "[CV 1/5] END .......C=100, gamma=1, kernel=rbf;, score=-0.000 total time=   0.7s\n",
            "[CV 2/5] END .......C=100, gamma=1, kernel=rbf;, score=-0.000 total time=   0.7s\n",
            "[CV 3/5] END .......C=100, gamma=1, kernel=rbf;, score=-0.004 total time=   0.7s\n",
            "[CV 4/5] END .......C=100, gamma=1, kernel=rbf;, score=-0.001 total time=   0.7s\n",
            "[CV 5/5] END .......C=100, gamma=1, kernel=rbf;, score=-0.000 total time=   0.7s\n",
            "[CV 1/5] END ......C=100, gamma=0.1, kernel=rbf;, score=0.000 total time=   0.7s\n",
            "[CV 2/5] END ......C=100, gamma=0.1, kernel=rbf;, score=0.001 total time=   0.7s\n",
            "[CV 3/5] END .....C=100, gamma=0.1, kernel=rbf;, score=-0.004 total time=   0.7s\n",
            "[CV 4/5] END .....C=100, gamma=0.1, kernel=rbf;, score=-0.001 total time=   0.7s\n",
            "[CV 5/5] END .....C=100, gamma=0.1, kernel=rbf;, score=-0.000 total time=   0.7s\n",
            "[CV 1/5] END .....C=100, gamma=0.01, kernel=rbf;, score=0.001 total time=   0.7s\n",
            "[CV 2/5] END .....C=100, gamma=0.01, kernel=rbf;, score=0.001 total time=   0.6s\n",
            "[CV 3/5] END ....C=100, gamma=0.01, kernel=rbf;, score=-0.003 total time=   0.7s\n",
            "[CV 4/5] END .....C=100, gamma=0.01, kernel=rbf;, score=0.000 total time=   0.7s\n",
            "[CV 5/5] END ....C=100, gamma=0.01, kernel=rbf;, score=-0.000 total time=   0.7s\n",
            "[CV 1/5] END ....C=100, gamma=0.001, kernel=rbf;, score=0.007 total time=   0.7s\n",
            "[CV 2/5] END ....C=100, gamma=0.001, kernel=rbf;, score=0.001 total time=   0.8s\n",
            "[CV 3/5] END ...C=100, gamma=0.001, kernel=rbf;, score=-0.002 total time=   0.8s\n",
            "[CV 4/5] END ....C=100, gamma=0.001, kernel=rbf;, score=0.000 total time=   0.7s\n",
            "[CV 5/5] END ....C=100, gamma=0.001, kernel=rbf;, score=0.005 total time=   0.7s\n",
            "[CV 1/5] END ...C=100, gamma=0.0001, kernel=rbf;, score=0.016 total time=   0.7s\n",
            "[CV 2/5] END ...C=100, gamma=0.0001, kernel=rbf;, score=0.001 total time=   0.7s\n",
            "[CV 3/5] END ..C=100, gamma=0.0001, kernel=rbf;, score=-0.003 total time=   0.7s\n",
            "[CV 4/5] END ...C=100, gamma=0.0001, kernel=rbf;, score=0.000 total time=   0.7s\n",
            "[CV 5/5] END ...C=100, gamma=0.0001, kernel=rbf;, score=0.011 total time=   0.7s\n",
            "[CV 1/5] END ......C=1000, gamma=1, kernel=rbf;, score=-0.000 total time=   0.7s\n",
            "[CV 2/5] END ......C=1000, gamma=1, kernel=rbf;, score=-0.000 total time=   0.7s\n",
            "[CV 3/5] END ......C=1000, gamma=1, kernel=rbf;, score=-0.001 total time=   0.7s\n",
            "[CV 4/5] END ......C=1000, gamma=1, kernel=rbf;, score=-0.000 total time=   0.7s\n",
            "[CV 5/5] END ......C=1000, gamma=1, kernel=rbf;, score=-0.000 total time=   0.7s\n",
            "[CV 1/5] END .....C=1000, gamma=0.1, kernel=rbf;, score=0.001 total time=   0.7s\n",
            "[CV 2/5] END .....C=1000, gamma=0.1, kernel=rbf;, score=0.000 total time=   0.7s\n",
            "[CV 3/5] END ....C=1000, gamma=0.1, kernel=rbf;, score=-0.001 total time=   0.7s\n",
            "[CV 4/5] END ....C=1000, gamma=0.1, kernel=rbf;, score=-0.000 total time=   0.7s\n",
            "[CV 5/5] END ....C=1000, gamma=0.1, kernel=rbf;, score=-0.000 total time=   0.7s\n",
            "[CV 1/5] END ....C=1000, gamma=0.01, kernel=rbf;, score=0.001 total time=   0.7s\n",
            "[CV 2/5] END ....C=1000, gamma=0.01, kernel=rbf;, score=0.001 total time=   0.8s\n",
            "[CV 3/5] END ...C=1000, gamma=0.01, kernel=rbf;, score=-0.000 total time=   0.8s\n",
            "[CV 4/5] END ....C=1000, gamma=0.01, kernel=rbf;, score=0.001 total time=   0.8s\n",
            "[CV 5/5] END ...C=1000, gamma=0.01, kernel=rbf;, score=-0.000 total time=   0.7s\n",
            "[CV 1/5] END ...C=1000, gamma=0.001, kernel=rbf;, score=0.008 total time=   0.8s\n",
            "[CV 2/5] END ...C=1000, gamma=0.001, kernel=rbf;, score=0.001 total time=   0.7s\n",
            "[CV 3/5] END ..C=1000, gamma=0.001, kernel=rbf;, score=-0.000 total time=   0.7s\n",
            "[CV 4/5] END ...C=1000, gamma=0.001, kernel=rbf;, score=0.001 total time=   0.7s\n",
            "[CV 5/5] END ...C=1000, gamma=0.001, kernel=rbf;, score=0.006 total time=   0.7s\n",
            "[CV 1/5] END ..C=1000, gamma=0.0001, kernel=rbf;, score=0.017 total time=   0.7s\n",
            "[CV 2/5] END ..C=1000, gamma=0.0001, kernel=rbf;, score=0.001 total time=   0.8s\n",
            "[CV 3/5] END .C=1000, gamma=0.0001, kernel=rbf;, score=-0.000 total time=   0.9s\n",
            "[CV 4/5] END ..C=1000, gamma=0.0001, kernel=rbf;, score=0.001 total time=   0.8s\n",
            "[CV 5/5] END ..C=1000, gamma=0.0001, kernel=rbf;, score=0.012 total time=   0.8s\n"
          ]
        },
        {
          "data": {
            "text/html": [
              "<style>#sk-container-id-1 {color: black;background-color: white;}#sk-container-id-1 pre{padding: 0;}#sk-container-id-1 div.sk-toggleable {background-color: white;}#sk-container-id-1 label.sk-toggleable__label {cursor: pointer;display: block;width: 100%;margin-bottom: 0;padding: 0.3em;box-sizing: border-box;text-align: center;}#sk-container-id-1 label.sk-toggleable__label-arrow:before {content: \"▸\";float: left;margin-right: 0.25em;color: #696969;}#sk-container-id-1 label.sk-toggleable__label-arrow:hover:before {color: black;}#sk-container-id-1 div.sk-estimator:hover label.sk-toggleable__label-arrow:before {color: black;}#sk-container-id-1 div.sk-toggleable__content {max-height: 0;max-width: 0;overflow: hidden;text-align: left;background-color: #f0f8ff;}#sk-container-id-1 div.sk-toggleable__content pre {margin: 0.2em;color: black;border-radius: 0.25em;background-color: #f0f8ff;}#sk-container-id-1 input.sk-toggleable__control:checked~div.sk-toggleable__content {max-height: 200px;max-width: 100%;overflow: auto;}#sk-container-id-1 input.sk-toggleable__control:checked~label.sk-toggleable__label-arrow:before {content: \"▾\";}#sk-container-id-1 div.sk-estimator input.sk-toggleable__control:checked~label.sk-toggleable__label {background-color: #d4ebff;}#sk-container-id-1 div.sk-label input.sk-toggleable__control:checked~label.sk-toggleable__label {background-color: #d4ebff;}#sk-container-id-1 input.sk-hidden--visually {border: 0;clip: rect(1px 1px 1px 1px);clip: rect(1px, 1px, 1px, 1px);height: 1px;margin: -1px;overflow: hidden;padding: 0;position: absolute;width: 1px;}#sk-container-id-1 div.sk-estimator {font-family: monospace;background-color: #f0f8ff;border: 1px dotted black;border-radius: 0.25em;box-sizing: border-box;margin-bottom: 0.5em;}#sk-container-id-1 div.sk-estimator:hover {background-color: #d4ebff;}#sk-container-id-1 div.sk-parallel-item::after {content: \"\";width: 100%;border-bottom: 1px solid gray;flex-grow: 1;}#sk-container-id-1 div.sk-label:hover label.sk-toggleable__label {background-color: #d4ebff;}#sk-container-id-1 div.sk-serial::before {content: \"\";position: absolute;border-left: 1px solid gray;box-sizing: border-box;top: 0;bottom: 0;left: 50%;z-index: 0;}#sk-container-id-1 div.sk-serial {display: flex;flex-direction: column;align-items: center;background-color: white;padding-right: 0.2em;padding-left: 0.2em;position: relative;}#sk-container-id-1 div.sk-item {position: relative;z-index: 1;}#sk-container-id-1 div.sk-parallel {display: flex;align-items: stretch;justify-content: center;background-color: white;position: relative;}#sk-container-id-1 div.sk-item::before, #sk-container-id-1 div.sk-parallel-item::before {content: \"\";position: absolute;border-left: 1px solid gray;box-sizing: border-box;top: 0;bottom: 0;left: 50%;z-index: -1;}#sk-container-id-1 div.sk-parallel-item {display: flex;flex-direction: column;z-index: 1;position: relative;background-color: white;}#sk-container-id-1 div.sk-parallel-item:first-child::after {align-self: flex-end;width: 50%;}#sk-container-id-1 div.sk-parallel-item:last-child::after {align-self: flex-start;width: 50%;}#sk-container-id-1 div.sk-parallel-item:only-child::after {width: 0;}#sk-container-id-1 div.sk-dashed-wrapped {border: 1px dashed gray;margin: 0 0.4em 0.5em 0.4em;box-sizing: border-box;padding-bottom: 0.4em;background-color: white;}#sk-container-id-1 div.sk-label label {font-family: monospace;font-weight: bold;display: inline-block;line-height: 1.2em;}#sk-container-id-1 div.sk-label-container {text-align: center;}#sk-container-id-1 div.sk-container {/* jupyter's `normalize.less` sets `[hidden] { display: none; }` but bootstrap.min.css set `[hidden] { display: none !important; }` so we also need the `!important` here to be able to override the default hidden behavior on the sphinx rendered scikit-learn.org. See: https://github.com/scikit-learn/scikit-learn/issues/21755 */display: inline-block !important;position: relative;}#sk-container-id-1 div.sk-text-repr-fallback {display: none;}</style><div id=\"sk-container-id-1\" class=\"sk-top-container\"><div class=\"sk-text-repr-fallback\"><pre>GridSearchCV(estimator=SVR(),\n",
              "             param_grid={&#x27;C&#x27;: [0.1, 1, 10, 100, 1000],\n",
              "                         &#x27;gamma&#x27;: [1, 0.1, 0.01, 0.001, 0.0001],\n",
              "                         &#x27;kernel&#x27;: [&#x27;rbf&#x27;]},\n",
              "             verbose=3)</pre><b>In a Jupyter environment, please rerun this cell to show the HTML representation or trust the notebook. <br />On GitHub, the HTML representation is unable to render, please try loading this page with nbviewer.org.</b></div><div class=\"sk-container\" hidden><div class=\"sk-item sk-dashed-wrapped\"><div class=\"sk-label-container\"><div class=\"sk-label sk-toggleable\"><input class=\"sk-toggleable__control sk-hidden--visually\" id=\"sk-estimator-id-1\" type=\"checkbox\" ><label for=\"sk-estimator-id-1\" class=\"sk-toggleable__label sk-toggleable__label-arrow\">GridSearchCV</label><div class=\"sk-toggleable__content\"><pre>GridSearchCV(estimator=SVR(),\n",
              "             param_grid={&#x27;C&#x27;: [0.1, 1, 10, 100, 1000],\n",
              "                         &#x27;gamma&#x27;: [1, 0.1, 0.01, 0.001, 0.0001],\n",
              "                         &#x27;kernel&#x27;: [&#x27;rbf&#x27;]},\n",
              "             verbose=3)</pre></div></div></div><div class=\"sk-parallel\"><div class=\"sk-parallel-item\"><div class=\"sk-item\"><div class=\"sk-label-container\"><div class=\"sk-label sk-toggleable\"><input class=\"sk-toggleable__control sk-hidden--visually\" id=\"sk-estimator-id-2\" type=\"checkbox\" ><label for=\"sk-estimator-id-2\" class=\"sk-toggleable__label sk-toggleable__label-arrow\">estimator: SVR</label><div class=\"sk-toggleable__content\"><pre>SVR()</pre></div></div></div><div class=\"sk-serial\"><div class=\"sk-item\"><div class=\"sk-estimator sk-toggleable\"><input class=\"sk-toggleable__control sk-hidden--visually\" id=\"sk-estimator-id-3\" type=\"checkbox\" ><label for=\"sk-estimator-id-3\" class=\"sk-toggleable__label sk-toggleable__label-arrow\">SVR</label><div class=\"sk-toggleable__content\"><pre>SVR()</pre></div></div></div></div></div></div></div></div></div></div>"
            ],
            "text/plain": [
              "GridSearchCV(estimator=SVR(),\n",
              "             param_grid={'C': [0.1, 1, 10, 100, 1000],\n",
              "                         'gamma': [1, 0.1, 0.01, 0.001, 0.0001],\n",
              "                         'kernel': ['rbf']},\n",
              "             verbose=3)"
            ]
          },
          "execution_count": 24,
          "metadata": {},
          "output_type": "execute_result"
        }
      ],
      "source": [
        " from sklearn.svm import SVR \n",
        " from sklearn.model_selection import GridSearchCV \n",
        "\n",
        " svr = SVR() \n",
        "\n",
        " param_grid = {'C': [0.1, 1, 10, 100, 1000],  \n",
        "              'gamma': [1, 0.1, 0.01, 0.001, 0.0001], \n",
        "              'kernel': ['rbf']}   \n",
        "\n",
        " grid = GridSearchCV(SVR(), param_grid, refit=True, verbose=3)    \n",
        " grid.fit(X_train, y_train)"
      ]
    },
    {
      "cell_type": "code",
      "execution_count": 25,
      "metadata": {
        "colab": {
          "base_uri": "https://localhost:8080/"
        },
        "id": "5aWsOCVaMpaZ",
        "outputId": "9a6d209c-c8f1-42ec-c4ab-fc9f36aa8c88"
      },
      "outputs": [
        {
          "data": {
            "text/html": [
              "<style>#sk-container-id-2 {color: black;background-color: white;}#sk-container-id-2 pre{padding: 0;}#sk-container-id-2 div.sk-toggleable {background-color: white;}#sk-container-id-2 label.sk-toggleable__label {cursor: pointer;display: block;width: 100%;margin-bottom: 0;padding: 0.3em;box-sizing: border-box;text-align: center;}#sk-container-id-2 label.sk-toggleable__label-arrow:before {content: \"▸\";float: left;margin-right: 0.25em;color: #696969;}#sk-container-id-2 label.sk-toggleable__label-arrow:hover:before {color: black;}#sk-container-id-2 div.sk-estimator:hover label.sk-toggleable__label-arrow:before {color: black;}#sk-container-id-2 div.sk-toggleable__content {max-height: 0;max-width: 0;overflow: hidden;text-align: left;background-color: #f0f8ff;}#sk-container-id-2 div.sk-toggleable__content pre {margin: 0.2em;color: black;border-radius: 0.25em;background-color: #f0f8ff;}#sk-container-id-2 input.sk-toggleable__control:checked~div.sk-toggleable__content {max-height: 200px;max-width: 100%;overflow: auto;}#sk-container-id-2 input.sk-toggleable__control:checked~label.sk-toggleable__label-arrow:before {content: \"▾\";}#sk-container-id-2 div.sk-estimator input.sk-toggleable__control:checked~label.sk-toggleable__label {background-color: #d4ebff;}#sk-container-id-2 div.sk-label input.sk-toggleable__control:checked~label.sk-toggleable__label {background-color: #d4ebff;}#sk-container-id-2 input.sk-hidden--visually {border: 0;clip: rect(1px 1px 1px 1px);clip: rect(1px, 1px, 1px, 1px);height: 1px;margin: -1px;overflow: hidden;padding: 0;position: absolute;width: 1px;}#sk-container-id-2 div.sk-estimator {font-family: monospace;background-color: #f0f8ff;border: 1px dotted black;border-radius: 0.25em;box-sizing: border-box;margin-bottom: 0.5em;}#sk-container-id-2 div.sk-estimator:hover {background-color: #d4ebff;}#sk-container-id-2 div.sk-parallel-item::after {content: \"\";width: 100%;border-bottom: 1px solid gray;flex-grow: 1;}#sk-container-id-2 div.sk-label:hover label.sk-toggleable__label {background-color: #d4ebff;}#sk-container-id-2 div.sk-serial::before {content: \"\";position: absolute;border-left: 1px solid gray;box-sizing: border-box;top: 0;bottom: 0;left: 50%;z-index: 0;}#sk-container-id-2 div.sk-serial {display: flex;flex-direction: column;align-items: center;background-color: white;padding-right: 0.2em;padding-left: 0.2em;position: relative;}#sk-container-id-2 div.sk-item {position: relative;z-index: 1;}#sk-container-id-2 div.sk-parallel {display: flex;align-items: stretch;justify-content: center;background-color: white;position: relative;}#sk-container-id-2 div.sk-item::before, #sk-container-id-2 div.sk-parallel-item::before {content: \"\";position: absolute;border-left: 1px solid gray;box-sizing: border-box;top: 0;bottom: 0;left: 50%;z-index: -1;}#sk-container-id-2 div.sk-parallel-item {display: flex;flex-direction: column;z-index: 1;position: relative;background-color: white;}#sk-container-id-2 div.sk-parallel-item:first-child::after {align-self: flex-end;width: 50%;}#sk-container-id-2 div.sk-parallel-item:last-child::after {align-self: flex-start;width: 50%;}#sk-container-id-2 div.sk-parallel-item:only-child::after {width: 0;}#sk-container-id-2 div.sk-dashed-wrapped {border: 1px dashed gray;margin: 0 0.4em 0.5em 0.4em;box-sizing: border-box;padding-bottom: 0.4em;background-color: white;}#sk-container-id-2 div.sk-label label {font-family: monospace;font-weight: bold;display: inline-block;line-height: 1.2em;}#sk-container-id-2 div.sk-label-container {text-align: center;}#sk-container-id-2 div.sk-container {/* jupyter's `normalize.less` sets `[hidden] { display: none; }` but bootstrap.min.css set `[hidden] { display: none !important; }` so we also need the `!important` here to be able to override the default hidden behavior on the sphinx rendered scikit-learn.org. See: https://github.com/scikit-learn/scikit-learn/issues/21755 */display: inline-block !important;position: relative;}#sk-container-id-2 div.sk-text-repr-fallback {display: none;}</style><div id=\"sk-container-id-2\" class=\"sk-top-container\"><div class=\"sk-text-repr-fallback\"><pre>GridSearchCV(estimator=SVR(),\n",
              "             param_grid={&#x27;C&#x27;: [0.1, 1, 10, 100, 1000],\n",
              "                         &#x27;gamma&#x27;: [1, 0.1, 0.01, 0.001, 0.0001],\n",
              "                         &#x27;kernel&#x27;: [&#x27;rbf&#x27;]},\n",
              "             verbose=3)</pre><b>In a Jupyter environment, please rerun this cell to show the HTML representation or trust the notebook. <br />On GitHub, the HTML representation is unable to render, please try loading this page with nbviewer.org.</b></div><div class=\"sk-container\" hidden><div class=\"sk-item sk-dashed-wrapped\"><div class=\"sk-label-container\"><div class=\"sk-label sk-toggleable\"><input class=\"sk-toggleable__control sk-hidden--visually\" id=\"sk-estimator-id-4\" type=\"checkbox\" ><label for=\"sk-estimator-id-4\" class=\"sk-toggleable__label sk-toggleable__label-arrow\">GridSearchCV</label><div class=\"sk-toggleable__content\"><pre>GridSearchCV(estimator=SVR(),\n",
              "             param_grid={&#x27;C&#x27;: [0.1, 1, 10, 100, 1000],\n",
              "                         &#x27;gamma&#x27;: [1, 0.1, 0.01, 0.001, 0.0001],\n",
              "                         &#x27;kernel&#x27;: [&#x27;rbf&#x27;]},\n",
              "             verbose=3)</pre></div></div></div><div class=\"sk-parallel\"><div class=\"sk-parallel-item\"><div class=\"sk-item\"><div class=\"sk-label-container\"><div class=\"sk-label sk-toggleable\"><input class=\"sk-toggleable__control sk-hidden--visually\" id=\"sk-estimator-id-5\" type=\"checkbox\" ><label for=\"sk-estimator-id-5\" class=\"sk-toggleable__label sk-toggleable__label-arrow\">estimator: SVR</label><div class=\"sk-toggleable__content\"><pre>SVR()</pre></div></div></div><div class=\"sk-serial\"><div class=\"sk-item\"><div class=\"sk-estimator sk-toggleable\"><input class=\"sk-toggleable__control sk-hidden--visually\" id=\"sk-estimator-id-6\" type=\"checkbox\" ><label for=\"sk-estimator-id-6\" class=\"sk-toggleable__label sk-toggleable__label-arrow\">SVR</label><div class=\"sk-toggleable__content\"><pre>SVR()</pre></div></div></div></div></div></div></div></div></div></div>"
            ],
            "text/plain": [
              "GridSearchCV(estimator=SVR(),\n",
              "             param_grid={'C': [0.1, 1, 10, 100, 1000],\n",
              "                         'gamma': [1, 0.1, 0.01, 0.001, 0.0001],\n",
              "                         'kernel': ['rbf']},\n",
              "             verbose=3)"
            ]
          },
          "execution_count": 25,
          "metadata": {},
          "output_type": "execute_result"
        }
      ],
      "source": [
        "GridSearchCV(estimator=SVR(),\n",
        "             param_grid={'C': [0.1, 1, 10, 100, 1000],\n",
        "                         'gamma': [1, 0.1, 0.01, 0.001, 0.0001],\n",
        "                         'kernel': ['rbf']},\n",
        "             verbose=3)"
      ]
    },
    {
      "cell_type": "code",
      "execution_count": 26,
      "metadata": {
        "id": "jHQugfmkMVUA"
      },
      "outputs": [],
      "source": [
        "svr = SVR(C=10, gamma=0.01, kernel='rbf') \n",
        "svr.fit(X_train, y_train) \n",
        "svr_pred = svr.predict(X_test) \n"
      ]
    },
    {
      "cell_type": "code",
      "execution_count": 27,
      "metadata": {
        "colab": {
          "base_uri": "https://localhost:8080/"
        },
        "id": "Q75YohI9Nptb",
        "outputId": "9f99ed8c-1081-4598-abe6-2eb7ac8f4485"
      },
      "outputs": [
        {
          "data": {
            "text/plain": [
              "array([24.02950887, 24.02950887, 24.02950887, 24.02950887, 24.02950887,\n",
              "       24.02950887, 24.02950887, 24.02950887, 24.02950887, 24.02950887,\n",
              "       24.02950887, 24.02950887, 24.02950887, 24.02950887, 24.02950887,\n",
              "       24.02950887, 24.02950887, 24.02950887, 24.02950887, 24.02950887,\n",
              "       24.02950887, 24.02950887, 24.02950887, 24.02950887, 24.02950887,\n",
              "       24.02950887, 24.02950887, 24.02950887, 24.02950887, 24.02950887,\n",
              "       24.02950887, 24.02950887, 24.02950887, 24.02950887, 24.02950887,\n",
              "       24.02950887, 24.02950887, 24.02950887, 24.02950887, 24.02950887,\n",
              "       24.02950887, 24.02950887, 24.02950887, 24.02950887, 24.02950887,\n",
              "       24.02950887, 24.02950887, 24.02950887, 24.02950887, 24.02950887,\n",
              "       24.02950887, 24.02950887, 24.02950887, 24.02950887, 24.02950887,\n",
              "       24.02950887, 24.02950887, 24.02950887, 24.02950887, 24.02950887,\n",
              "       24.02950887, 24.02950887, 24.02950887, 24.02950887, 24.02950887,\n",
              "       24.02950887, 24.02950887, 24.02950887, 24.02950887, 24.02950887,\n",
              "       24.02950887, 24.02950887, 24.02950887, 24.02950887, 24.02950887,\n",
              "       24.02950887, 32.98463991, 24.02950887, 24.02950887, 24.02950887,\n",
              "       24.02950887, 24.02950887, 24.02950887, 24.02950887, 24.02950887,\n",
              "       24.02950887, 24.02950887, 24.02950887, 24.02950887, 24.02950887,\n",
              "       24.02950887, 24.02950887, 24.02950887, 24.02950887, 24.02950887,\n",
              "       24.02950887, 24.02950887, 24.02950887, 24.02950887, 24.02950887,\n",
              "       24.02950887, 24.02950887, 24.02950887, 24.02950887, 24.02950887,\n",
              "       24.02950887, 24.02950887, 24.02950887, 24.02950887, 24.02950887,\n",
              "       24.02950887, 24.02950887, 24.02950887, 24.02950887, 24.02950887,\n",
              "       24.02950887, 24.02950887, 24.02950887, 24.02950887, 24.02950887,\n",
              "       24.02950887, 24.02950887, 24.02950887, 24.02950887, 24.02950887,\n",
              "       24.02950887, 24.02950887, 24.02950887, 24.02950887, 24.02950887,\n",
              "       24.02950887, 24.02950887, 24.02950887, 24.02950887, 24.02950887,\n",
              "       24.02950887, 24.02950887, 24.02950887, 24.02950887, 24.02950887,\n",
              "       24.02950887, 24.02950887, 24.02950887, 24.02950887, 24.02950887,\n",
              "       24.02950887, 24.02950887, 24.02950887, 24.02950887, 24.02950887,\n",
              "       24.02950887, 24.02950887, 24.02950887, 24.02950887, 24.02950887,\n",
              "       24.02950887, 24.02950887, 24.02950887, 24.02950887, 24.02950887,\n",
              "       24.02950887, 24.02950887, 24.02950887, 24.02950887, 24.02950887,\n",
              "       24.02950887, 24.02950887, 24.02950887, 24.02950887, 24.02950887,\n",
              "       24.02950887, 24.02950887, 24.02950887, 24.02950887, 24.02950887,\n",
              "       24.02950887, 24.02950887, 24.02950887, 24.02950887, 24.02950887,\n",
              "       24.02950887, 24.02950887, 24.02950887, 24.02950887, 24.02950887,\n",
              "       24.02950887, 24.02950887, 24.02950887, 24.02950887, 24.02950887,\n",
              "       24.02950887, 24.02950887, 24.02950887, 24.02950887, 24.02950887,\n",
              "       24.02950887, 24.02950887, 24.02950887, 24.02950887, 24.02950887,\n",
              "       24.02950887, 24.02950887, 24.02950887, 24.02950887, 24.02950887,\n",
              "       24.02950887, 24.02950887, 24.02950887, 24.02950887, 24.02950887,\n",
              "       24.02950887, 24.02950887, 24.02950887, 24.02950887, 24.02950887,\n",
              "       24.02950887, 24.02950887, 24.02950887, 24.02950887, 24.02950887,\n",
              "       24.02950887, 24.02950887, 24.02950887, 24.02950887, 24.02950887,\n",
              "       24.02950887, 24.02950887, 24.02950887, 24.02950887, 24.02950887,\n",
              "       24.02950887, 24.02950887, 24.02950887, 24.02950887, 24.02950887,\n",
              "       24.02950887, 24.02950887, 24.02950887, 24.02950887, 24.02950887,\n",
              "       24.02950887, 24.02950887, 24.02950887, 24.02950887, 24.02950887,\n",
              "       24.02950887, 24.02950887, 24.02950887, 24.02950887, 24.02950887,\n",
              "       24.02950887, 24.02950887, 24.02950887, 24.02950887, 24.02950887,\n",
              "       24.02950887, 24.02950887, 24.02950887, 24.02950887, 24.02950887,\n",
              "       24.02950887, 24.02950887, 24.02950887, 24.02950887, 24.02950887,\n",
              "       24.02950887, 24.02950887, 24.02950887, 24.02950887, 24.02950887,\n",
              "       24.02950887, 24.02950887, 24.02950887, 24.02950887, 24.02950887,\n",
              "       24.02950887, 24.02950887, 24.02950887, 24.02950887, 24.02950887,\n",
              "       24.02950887, 24.02950887, 24.02950887, 24.02950887, 24.02950887,\n",
              "       24.02950887, 24.02950887, 24.02950887, 24.02950887, 24.02950887,\n",
              "       24.02950887, 24.02950887, 24.02950887, 24.02950887, 24.02950887,\n",
              "       24.02950887, 24.02950887, 24.02950887, 24.02950887, 24.02950887,\n",
              "       24.02950887, 24.02950887, 24.02950887, 24.02950887, 24.02950887,\n",
              "       24.02950887, 24.02950887, 24.02950887, 24.02950887, 24.02950887,\n",
              "       24.02950887, 24.02950887, 24.02950887, 24.02950887, 24.02950887,\n",
              "       24.02950887, 24.02950887, 24.02950887, 24.02950887, 24.02950887,\n",
              "       24.02950887, 24.02950887, 24.02950887, 24.02950887, 24.02950887,\n",
              "       24.02950887, 24.02950887, 24.02950887, 24.02950887, 24.02950887,\n",
              "       24.02950887, 24.02950887, 24.02950887, 24.02950887, 24.02950887,\n",
              "       24.02950887, 24.02950887, 24.02950887, 24.02950887, 24.02950887,\n",
              "       24.02950887, 24.02950887, 24.02950887, 24.02950887, 24.02950887,\n",
              "       24.02950887, 24.02950887, 24.02950887, 24.02950887, 24.02950887,\n",
              "       24.02950887, 24.02950887, 24.02950887, 24.02950887, 24.02950887,\n",
              "       24.02950887, 24.02950887, 24.02950887, 24.02950887, 24.02950887,\n",
              "       24.02950887, 24.02950887, 24.02950887, 24.02950887, 24.02950887,\n",
              "       24.02950887, 24.02950887, 24.02950887, 24.02950887, 24.02950887,\n",
              "       24.02950887, 24.02950887, 24.02950887, 24.02950887, 24.02950887,\n",
              "       24.02950887, 24.02950887, 24.02950887, 24.02950887, 24.02950887,\n",
              "       24.02950887, 24.02950887, 24.02950887, 24.02950887, 24.02950887,\n",
              "       24.02950887, 24.02950887, 24.02950887, 24.02950887, 24.02950887,\n",
              "       24.02950887, 24.02950887, 24.02950887, 24.02950887, 24.02950887,\n",
              "       24.02950887, 24.02950887, 24.02950887, 24.02950887, 24.02950887,\n",
              "       24.02950887, 24.02950887, 24.02950887, 24.02950887, 24.02950887,\n",
              "       24.02950887, 24.02950887, 24.02950887, 24.02950887, 24.02950887,\n",
              "       24.02950887, 24.02950887, 24.02950887, 24.02950887, 24.02950887,\n",
              "       24.02950887, 24.02950887, 24.02950887, 24.02950887, 24.02950887,\n",
              "       24.02950887, 24.02950887, 24.02950887, 24.02950887, 24.02950887,\n",
              "       24.02950887, 24.02950887, 24.02950887, 24.05935441, 24.02950887,\n",
              "       24.02950887, 24.02950887, 24.02950887, 24.02950887, 24.02950887,\n",
              "       24.02950887, 24.02950887, 24.02950887, 24.02950887, 24.02950887,\n",
              "       24.02950887, 24.02950887, 24.02950887, 24.02950887, 24.02950887,\n",
              "       24.02950887, 24.02950887, 24.02950887, 24.02950887, 24.02950887,\n",
              "       24.02950887, 24.02950887, 24.02950887, 24.02950887, 24.02950887,\n",
              "       24.02950887, 24.02950887, 24.02950887, 24.02950887, 24.02950887,\n",
              "       24.02950887, 24.02950887, 24.02950887, 24.02950887, 24.02950887,\n",
              "       24.02950887, 24.02950887, 24.02950887, 24.02950887, 24.02950887,\n",
              "       24.02950887, 24.02950887, 24.02950887, 24.02950887, 24.02950887,\n",
              "       24.02950887, 24.02950887, 24.02950887, 24.02950887, 24.02950887,\n",
              "       24.02950887, 24.02950887, 24.02950887, 24.02950887, 24.02950887,\n",
              "       24.02950887, 24.02950887, 24.02950887, 24.02950887, 24.02950887,\n",
              "       24.02950887, 24.02950887, 24.02950887, 24.02950887, 24.02950887,\n",
              "       24.02950887, 24.02950887, 24.02950887, 24.02950887, 24.02950887,\n",
              "       24.02950887, 24.02950887, 24.02950887, 24.02950887, 24.02950887,\n",
              "       24.02950887, 24.02950887, 24.02950887, 24.02950887, 24.02950887,\n",
              "       24.02950887, 24.02950887, 24.02950887, 24.02950887, 24.02950887,\n",
              "       24.02950887, 24.02950887, 24.02950887, 24.02950887, 24.02950887,\n",
              "       24.02950887, 24.02950887, 24.02950887, 24.02950887, 24.02950887,\n",
              "       24.02950887, 24.02950887, 24.02950887, 24.02950887, 24.02950887,\n",
              "       24.02950887, 24.02950887, 24.02950887, 24.02950887, 24.02950887,\n",
              "       24.02950887, 24.02950887, 24.02950887, 24.02950887, 24.02950887,\n",
              "       24.02950887, 24.02950887, 24.02950887, 24.02950887, 24.02950887,\n",
              "       24.02950887, 24.02950887, 24.02950887, 24.02950887, 24.02950887,\n",
              "       24.02950887, 24.02950887, 24.02950887, 24.02950887, 24.02950887,\n",
              "       24.02950887, 24.02950887, 24.02950887, 24.02950887, 24.02950887,\n",
              "       24.02950887, 24.02950887, 24.02950887, 24.02950887, 24.02950887,\n",
              "       24.02950887, 24.02950887, 24.02950887, 24.02950887, 24.02950887,\n",
              "       24.02950887, 24.02950887, 24.02950887, 24.02950887, 24.02950887,\n",
              "       24.02950887, 24.02950887, 24.02950887, 24.02950887, 24.02950887,\n",
              "       24.02950887, 24.02950887, 24.02950887, 24.02950887, 24.02950887,\n",
              "       24.02950887, 24.02950887, 24.02950887, 24.02950887, 24.02950887,\n",
              "       24.02950887, 24.02950887, 24.02950887, 24.02950887, 24.02950887,\n",
              "       24.02950887, 24.02950887, 24.02950887, 24.02950887, 24.02950887,\n",
              "       24.02950887, 24.02950887, 24.02950887, 24.02950887, 24.02950887,\n",
              "       24.02950887, 24.02950887, 24.02950887, 24.02950887, 24.02950887,\n",
              "       24.02950887, 24.02950887, 24.02950887, 24.02950887, 24.02950887,\n",
              "       24.02950887, 24.02950887, 24.02950887, 24.02950887, 24.02950887,\n",
              "       24.02950887, 24.02950887, 24.02950887, 24.02950887, 24.02950887,\n",
              "       24.02950887, 24.02950887, 24.02950887, 24.02950887, 24.02950887,\n",
              "       24.02950887, 24.02950887, 24.02950887, 24.02950887, 24.02950887,\n",
              "       24.02950887, 24.02950887, 24.02950887, 24.02950887, 24.02950887,\n",
              "       24.02950887, 24.02950887, 24.02950887, 24.02950887, 24.02950887,\n",
              "       24.02950887, 24.02950887, 24.02950887, 24.02950887, 24.02950887,\n",
              "       24.02950887, 24.02950887, 24.02950887, 24.02950887, 24.02950887,\n",
              "       24.02950887, 24.02950887, 24.02950887, 24.02950887, 24.02950887,\n",
              "       24.02950887, 24.02950887, 24.02950887, 24.02950887, 24.02950887,\n",
              "       24.02950887, 24.02950887, 24.02950887, 24.02950887, 24.02950887,\n",
              "       24.02950887, 24.02950887, 24.02950887, 24.02950887, 24.02950887,\n",
              "       24.02950887, 24.02950887, 24.02950887, 24.02950887, 24.02950887,\n",
              "       24.02950887, 24.02950887, 24.02950887, 24.02950887, 24.02950887,\n",
              "       24.02950887, 24.02950887, 24.02950887, 24.02950887, 24.02950887,\n",
              "       24.02950887, 24.02950887, 24.02950887, 24.02950887, 24.02950887,\n",
              "       24.02950887, 24.02950887, 24.02950887, 24.02950887, 24.02950887,\n",
              "       24.02950887, 24.02950887, 24.02950887, 24.02950887, 24.02950887,\n",
              "       24.02950887, 24.02950887, 24.02950887, 24.02950887, 24.02950887,\n",
              "       24.02950887, 24.02950887, 24.02950887, 24.02950887, 24.02950887,\n",
              "       24.02950887, 24.02950887, 24.02950887, 24.02950887, 24.02950887,\n",
              "       24.02950887, 24.02950887, 24.02950887, 20.14935722, 24.02950887,\n",
              "       24.02950887, 24.02950887, 24.02950887, 24.02950887, 24.02950887])"
            ]
          },
          "execution_count": 27,
          "metadata": {},
          "output_type": "execute_result"
        }
      ],
      "source": [
        "svr_pred"
      ]
    },
    {
      "cell_type": "code",
      "execution_count": 28,
      "metadata": {
        "colab": {
          "base_uri": "https://localhost:8080/"
        },
        "id": "H3HqcqpEN71_",
        "outputId": "c7c1ef7a-bad3-4036-a6e2-54a31832d2ba"
      },
      "outputs": [
        {
          "name": "stdout",
          "output_type": "stream",
          "text": [
            "MSE :-  2279.8513066590094\n",
            "RMSE :-  47.74778850019139\n",
            "R2_score :-  -0.1290540411456773\n"
          ]
        }
      ],
      "source": [
        "from sklearn.metrics import mean_squared_error ,r2_score\n",
        "\n",
        "def calculate_metrics(y_test,svr_pred):\n",
        "  mse = mean_squared_error(y_test,svr_pred)\n",
        "  rmse= np.sqrt(mse)\n",
        "  rse = r2_score(y_test,svr_pred)\n",
        "\n",
        "  print(\"MSE :- \",mse)\n",
        "  print(\"RMSE :- \",rmse)\n",
        "  print(\"R2_score :- \",rse)\n",
        "\n",
        "calculate_metrics(y_test,svr_pred)"
      ]
    },
    {
      "cell_type": "code",
      "execution_count": 29,
      "metadata": {
        "id": "s7FgKj8MMVXO"
      },
      "outputs": [],
      "source": [
        "import joblib  \n",
        "joblib.dump(ri, 'model.pkl') \n",
        "ridge_from_joblib = model = joblib.load(\"model.pkl\")"
      ]
    }
  ],
  "metadata": {
    "colab": {
      "collapsed_sections": [],
      "name": "stockprice.ipynb",
      "provenance": []
    },
    "kernelspec": {
      "display_name": "Python 3.9.13 ('env': venv)",
      "language": "python",
      "name": "python3"
    },
    "language_info": {
      "codemirror_mode": {
        "name": "ipython",
        "version": 3
      },
      "file_extension": ".py",
      "mimetype": "text/x-python",
      "name": "python",
      "nbconvert_exporter": "python",
      "pygments_lexer": "ipython3",
      "version": "3.9.13"
    },
    "vscode": {
      "interpreter": {
        "hash": "15bc93a870554a868c9196e3b203620686c140281ace6921aa0c79949d04ae0e"
      }
    }
  },
  "nbformat": 4,
  "nbformat_minor": 0
}
